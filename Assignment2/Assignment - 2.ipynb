{
 "cells": [
  {
   "cell_type": "code",
   "execution_count": null,
   "id": "454d1144",
   "metadata": {},
   "outputs": [],
   "source": []
  },
  {
   "cell_type": "markdown",
   "id": "a53fe151",
   "metadata": {},
   "source": [
    "# ::: Assignment - 2 :::"
   ]
  },
  {
   "cell_type": "code",
   "execution_count": 1,
   "id": "03f3c5a3",
   "metadata": {},
   "outputs": [],
   "source": [
    "import pandas as pd\n",
    "import re"
   ]
  },
  {
   "cell_type": "code",
   "execution_count": 2,
   "id": "e2fcfa4b",
   "metadata": {
    "code_folding": []
   },
   "outputs": [
    {
     "name": "stdout",
     "output_type": "stream",
     "text": [
      "Python:Exercises::PHP:exercises:\n"
     ]
    }
   ],
   "source": [
    "#Question - 1\n",
    "\n",
    "target_string='Python Exercises, PHP exercises.'\n",
    "pattern=\"[^\\w]\"\n",
    "\n",
    "result=re.sub(pattern,\":\",target_string)\n",
    "print(result)"
   ]
  },
  {
   "cell_type": "code",
   "execution_count": 3,
   "id": "a871b129",
   "metadata": {
    "code_folding": []
   },
   "outputs": [
    {
     "data": {
      "text/plain": [
       "0      hello world\n",
       "1             test\n",
       "2    four five six\n",
       "Name: SUMMARY, dtype: object"
      ]
     },
     "execution_count": 3,
     "metadata": {},
     "output_type": "execute_result"
    }
   ],
   "source": [
    "#Question - 2\n",
    "\n",
    "dict={'SUMMARY' : ['hello, world!', 'XXXXX test', '123four, five:; six...']}\n",
    "\n",
    "df=pd.DataFrame(dict)\n",
    "# df\n",
    "\n",
    "def clean_data(text):\n",
    "#   cleanData=re.sub(r'[^a-zA-W\\s]', \"\",text)\n",
    "    cleanData=re.sub(r'[^a-zA-Z]+|[X]+',\" \",text)\n",
    "    cleanData=cleanData.strip()\n",
    "    return cleanData\n",
    "\n",
    "df['SUMMARY']=df['SUMMARY'].apply(clean_data)\n",
    "df['SUMMARY']"
   ]
  },
  {
   "cell_type": "code",
   "execution_count": 4,
   "id": "495a6435",
   "metadata": {},
   "outputs": [
    {
     "name": "stdout",
     "output_type": "stream",
     "text": [
      "Bhagat\n",
      "Singh\n",
      "also\n",
      "known\n",
      "Shaheed\n",
      "Bhagat\n",
      "Singh\n",
      "Sikh\n",
      "revolutionary\n",
      "activist\n",
      "fought\n",
      "against\n",
      "British\n",
      "colonial\n",
      "rule\n",
      "India\n",
      "born\n",
      "1907\n",
      "Lahore\n",
      "British\n",
      "India\n",
      "Pakistan\n",
      "Singh\n",
      "famous\n",
      "role\n",
      "Quit\n",
      "India\n",
      "movement\n",
      "1942\n",
      "part\n",
      "planning\n",
      "executing\n",
      "assassination\n",
      "Langham\n",
      "Lassepsyre\n",
      "Curtis\n",
      "British\n",
      "functioning\n",
      "officer\n",
      "Indian\n",
      "National\n",
      "Congress\n",
      "September\n",
      "1942\n",
      "when\n",
      "just\n",
      "years\n",
      "caught\n",
      "brought\n",
      "before\n",
      "court\n",
      "martial\n",
      "April\n"
     ]
    }
   ],
   "source": [
    "#Question - 3\n",
    "\n",
    "target_string=\"Bhagat Singh, also known as Shaheed Bhagat Singh, was a Sikh revolutionary and activist who fought against British colonial rule in India. He was born on May 27, 1907, in Lahore, British India, now in Pakistan. Singh is famous for his role in the Quit India movement of 1942 and his part in planning and executing the assassination of Sir Langham Lassepsyre Curtis, a British functioning officer of the Indian National Congress, on September 28, 1942, when he was just 23 years old. He was caught and brought before a court-martial and on April 2\"\n",
    "pattern=re.compile(\"\\w{4,}\")\n",
    "\n",
    "\n",
    "def string_long():\n",
    "    for text in pattern.finditer(target_string):\n",
    "        print(text.group())\n",
    "\n",
    "string_long()"
   ]
  },
  {
   "cell_type": "code",
   "execution_count": 5,
   "id": "91f2d3e9",
   "metadata": {},
   "outputs": [
    {
     "name": "stdout",
     "output_type": "stream",
     "text": [
      "Bhaga\n",
      "Singh\n",
      "also\n",
      "known\n",
      "Shahe\n",
      "Bhaga\n",
      "Singh\n",
      "was\n",
      "Sikh\n",
      "revol\n",
      "ution\n",
      "ary\n",
      "and\n",
      "activ\n",
      "ist\n",
      "who\n",
      "fough\n",
      "again\n",
      "Briti\n",
      "colon\n",
      "ial\n",
      "rule\n",
      "India\n",
      "was\n",
      "born\n",
      "May\n",
      "1907\n",
      "Lahor\n",
      "Briti\n",
      "India\n",
      "now\n",
      "Pakis\n",
      "tan\n",
      "Singh\n",
      "famou\n",
      "for\n",
      "his\n",
      "role\n",
      "the\n",
      "Quit\n",
      "India\n",
      "movem\n",
      "ent\n",
      "1942\n",
      "and\n",
      "his\n",
      "part\n",
      "plann\n",
      "ing\n",
      "and\n",
      "execu\n",
      "ting\n",
      "the\n",
      "assas\n",
      "sinat\n",
      "ion\n",
      "Sir\n",
      "Langh\n",
      "Lasse\n",
      "psyre\n",
      "Curti\n",
      "Briti\n",
      "funct\n",
      "ionin\n",
      "offic\n",
      "the\n",
      "India\n",
      "Natio\n",
      "nal\n",
      "Congr\n",
      "ess\n",
      "Septe\n",
      "mber\n",
      "1942\n",
      "when\n",
      "was\n",
      "just\n",
      "years\n",
      "old\n",
      "was\n",
      "caugh\n",
      "and\n",
      "broug\n",
      "befor\n",
      "court\n",
      "marti\n",
      "and\n",
      "April\n"
     ]
    }
   ],
   "source": [
    "#Question - 4\n",
    "\n",
    "target_string=\"Bhagat Singh, also known as Shaheed Bhagat Singh, was a Sikh revolutionary and activist who fought against British colonial rule in India. He was born on May 27, 1907, in Lahore, British India, now in Pakistan. Singh is famous for his role in the Quit India movement of 1942 and his part in planning and executing the assassination of Sir Langham Lassepsyre Curtis, a British functioning officer of the Indian National Congress, on September 28, 1942, when he was just 23 years old. He was caught and brought before a court-martial and on April 2\"\n",
    "pattern=re.compile(\"\\w{3,5}\")\n",
    "\n",
    "def stringFun():\n",
    "    for text in pattern.finditer(target_string):\n",
    "        print(text.group())  \n",
    "        \n",
    "stringFun()"
   ]
  },
  {
   "cell_type": "code",
   "execution_count": 6,
   "id": "8b19d315",
   "metadata": {},
   "outputs": [
    {
     "data": {
      "text/plain": [
       "['example.com',\n",
       " 'hr@fliprobo.com',\n",
       " 'github.com',\n",
       " 'HelloDataScienceWorld',\n",
       " 'DataScientist']"
      ]
     },
     "execution_count": 6,
     "metadata": {},
     "output_type": "execute_result"
    }
   ],
   "source": [
    "#Question - 5\n",
    "\n",
    "target_string=[\"example (.com)\", \"hr@fliprobo (.com)\", \"github (.com)\", \"Hello (Data Science World)\",\n",
    "\"Data (Scientist)\"]\n",
    "\n",
    "pattern=re.compile(r\"[\\s()]\")\n",
    "\n",
    "def url():\n",
    "    new_list=[]\n",
    "    for text in target_string:\n",
    "        string=re.sub(pattern,\"\",text)\n",
    "        new_list.append(string)\n",
    "    return new_list\n",
    "\n",
    "url()"
   ]
  },
  {
   "cell_type": "code",
   "execution_count": 7,
   "id": "f481f697",
   "metadata": {},
   "outputs": [
    {
     "data": {
      "text/plain": [
       "'[\"example.com\",\"hr@fliprobo.com\",\"github.com\",\"HelloDataScienceWorld\",\"DataScientist\"]'"
      ]
     },
     "execution_count": 7,
     "metadata": {},
     "output_type": "execute_result"
    }
   ],
   "source": [
    "#Question - 6\n",
    "\n",
    "file_path=\"data.txt\"\n",
    "\n",
    "with open(file_path,\"r\") as file:\n",
    "    file_contents=file.read()\n",
    "#     print(file_contents)\n",
    "\n",
    "pattern=re.compile(\"[\\s()]\")\n",
    "    \n",
    "def stringUrl():\n",
    "#     for text in file_contents:\n",
    "#     print(text)\n",
    "    return re.sub(pattern,\"\",file_contents)\n",
    "#     string_contents.append(string)\n",
    "#     return string_contents\n",
    "\n",
    "stringUrl()"
   ]
  },
  {
   "cell_type": "code",
   "execution_count": 8,
   "id": "5a9f9c0e",
   "metadata": {},
   "outputs": [
    {
     "data": {
      "text/plain": [
       "['Importance', 'Of', 'Regular', 'Expressions', 'In', 'Python']"
      ]
     },
     "execution_count": 8,
     "metadata": {},
     "output_type": "execute_result"
    }
   ],
   "source": [
    "#Question - 7\n",
    "\n",
    "target_string=\"ImportanceOfRegularExpressionsInPython\"\n",
    "\n",
    "pattern=re.compile(r\"[A-Z][a-z]*\")\n",
    "data_split = re.findall(pattern,target_string)\n",
    "data_split"
   ]
  },
  {
   "cell_type": "code",
   "execution_count": 9,
   "id": "df1a9ac9",
   "metadata": {},
   "outputs": [
    {
     "data": {
      "text/plain": [
       "'RegularExpression 1IsAn 2ImportantTopic 3InPython'"
      ]
     },
     "execution_count": 9,
     "metadata": {},
     "output_type": "execute_result"
    }
   ],
   "source": [
    "#Question - 8\n",
    "\n",
    "target_string=\"RegularExpression1IsAn2ImportantTopic3InPython\"\n",
    "\n",
    "data_split=re.sub(r\"(\\d)\",r\" \\1\",target_string)\n",
    "data_split"
   ]
  },
  {
   "cell_type": "code",
   "execution_count": 10,
   "id": "0813209f",
   "metadata": {},
   "outputs": [
    {
     "data": {
      "text/plain": [
       "'RegularExpression 1 IsAn 2 ImportantTopic 3 InPython'"
      ]
     },
     "execution_count": 10,
     "metadata": {},
     "output_type": "execute_result"
    }
   ],
   "source": [
    "#Question - 9\n",
    "\n",
    "target_string=\"RegularExpression1IsAn2ImportantTopic3InPython\"\n",
    "\n",
    "data_split=re.sub(r\"(\\d)\",r\" \\1 \",target_string)\n",
    "data_split"
   ]
  },
  {
   "cell_type": "code",
   "execution_count": 11,
   "id": "b0e1adf6",
   "metadata": {},
   "outputs": [
    {
     "data": {
      "text/html": [
       "<div>\n",
       "<style scoped>\n",
       "    .dataframe tbody tr th:only-of-type {\n",
       "        vertical-align: middle;\n",
       "    }\n",
       "\n",
       "    .dataframe tbody tr th {\n",
       "        vertical-align: top;\n",
       "    }\n",
       "\n",
       "    .dataframe thead th {\n",
       "        text-align: right;\n",
       "    }\n",
       "</style>\n",
       "<table border=\"1\" class=\"dataframe\">\n",
       "  <thead>\n",
       "    <tr style=\"text-align: right;\">\n",
       "      <th></th>\n",
       "      <th>Country</th>\n",
       "      <th>Region</th>\n",
       "      <th>Happiness Rank</th>\n",
       "      <th>Happiness Score</th>\n",
       "      <th>Standard Error</th>\n",
       "      <th>Economy (GDP per Capita)</th>\n",
       "      <th>Family</th>\n",
       "      <th>Health (Life Expectancy)</th>\n",
       "      <th>Freedom</th>\n",
       "      <th>Trust (Government Corruption)</th>\n",
       "      <th>Generosity</th>\n",
       "      <th>Dystopia Residual</th>\n",
       "      <th>first_five_letters</th>\n",
       "    </tr>\n",
       "  </thead>\n",
       "  <tbody>\n",
       "    <tr>\n",
       "      <th>0</th>\n",
       "      <td>Switzerland</td>\n",
       "      <td>Western Europe</td>\n",
       "      <td>1</td>\n",
       "      <td>7.587</td>\n",
       "      <td>0.03411</td>\n",
       "      <td>1.39651</td>\n",
       "      <td>1.34951</td>\n",
       "      <td>0.94143</td>\n",
       "      <td>0.66557</td>\n",
       "      <td>0.41978</td>\n",
       "      <td>0.29678</td>\n",
       "      <td>2.51738</td>\n",
       "      <td>Switze</td>\n",
       "    </tr>\n",
       "    <tr>\n",
       "      <th>1</th>\n",
       "      <td>Iceland</td>\n",
       "      <td>Western Europe</td>\n",
       "      <td>2</td>\n",
       "      <td>7.561</td>\n",
       "      <td>0.04884</td>\n",
       "      <td>1.30232</td>\n",
       "      <td>1.40223</td>\n",
       "      <td>0.94784</td>\n",
       "      <td>0.62877</td>\n",
       "      <td>0.14145</td>\n",
       "      <td>0.43630</td>\n",
       "      <td>2.70201</td>\n",
       "      <td>Icelan</td>\n",
       "    </tr>\n",
       "    <tr>\n",
       "      <th>2</th>\n",
       "      <td>Denmark</td>\n",
       "      <td>Western Europe</td>\n",
       "      <td>3</td>\n",
       "      <td>7.527</td>\n",
       "      <td>0.03328</td>\n",
       "      <td>1.32548</td>\n",
       "      <td>1.36058</td>\n",
       "      <td>0.87464</td>\n",
       "      <td>0.64938</td>\n",
       "      <td>0.48357</td>\n",
       "      <td>0.34139</td>\n",
       "      <td>2.49204</td>\n",
       "      <td>Denmar</td>\n",
       "    </tr>\n",
       "    <tr>\n",
       "      <th>3</th>\n",
       "      <td>Norway</td>\n",
       "      <td>Western Europe</td>\n",
       "      <td>4</td>\n",
       "      <td>7.522</td>\n",
       "      <td>0.03880</td>\n",
       "      <td>1.45900</td>\n",
       "      <td>1.33095</td>\n",
       "      <td>0.88521</td>\n",
       "      <td>0.66973</td>\n",
       "      <td>0.36503</td>\n",
       "      <td>0.34699</td>\n",
       "      <td>2.46531</td>\n",
       "      <td>Norway</td>\n",
       "    </tr>\n",
       "    <tr>\n",
       "      <th>4</th>\n",
       "      <td>Canada</td>\n",
       "      <td>North America</td>\n",
       "      <td>5</td>\n",
       "      <td>7.427</td>\n",
       "      <td>0.03553</td>\n",
       "      <td>1.32629</td>\n",
       "      <td>1.32261</td>\n",
       "      <td>0.90563</td>\n",
       "      <td>0.63297</td>\n",
       "      <td>0.32957</td>\n",
       "      <td>0.45811</td>\n",
       "      <td>2.45176</td>\n",
       "      <td>Canada</td>\n",
       "    </tr>\n",
       "    <tr>\n",
       "      <th>...</th>\n",
       "      <td>...</td>\n",
       "      <td>...</td>\n",
       "      <td>...</td>\n",
       "      <td>...</td>\n",
       "      <td>...</td>\n",
       "      <td>...</td>\n",
       "      <td>...</td>\n",
       "      <td>...</td>\n",
       "      <td>...</td>\n",
       "      <td>...</td>\n",
       "      <td>...</td>\n",
       "      <td>...</td>\n",
       "      <td>...</td>\n",
       "    </tr>\n",
       "    <tr>\n",
       "      <th>153</th>\n",
       "      <td>Rwanda</td>\n",
       "      <td>Sub-Saharan Africa</td>\n",
       "      <td>154</td>\n",
       "      <td>3.465</td>\n",
       "      <td>0.03464</td>\n",
       "      <td>0.22208</td>\n",
       "      <td>0.77370</td>\n",
       "      <td>0.42864</td>\n",
       "      <td>0.59201</td>\n",
       "      <td>0.55191</td>\n",
       "      <td>0.22628</td>\n",
       "      <td>0.67042</td>\n",
       "      <td>Rwanda</td>\n",
       "    </tr>\n",
       "    <tr>\n",
       "      <th>154</th>\n",
       "      <td>Benin</td>\n",
       "      <td>Sub-Saharan Africa</td>\n",
       "      <td>155</td>\n",
       "      <td>3.340</td>\n",
       "      <td>0.03656</td>\n",
       "      <td>0.28665</td>\n",
       "      <td>0.35386</td>\n",
       "      <td>0.31910</td>\n",
       "      <td>0.48450</td>\n",
       "      <td>0.08010</td>\n",
       "      <td>0.18260</td>\n",
       "      <td>1.63328</td>\n",
       "      <td>NaN</td>\n",
       "    </tr>\n",
       "    <tr>\n",
       "      <th>155</th>\n",
       "      <td>Syria</td>\n",
       "      <td>Middle East and Northern Africa</td>\n",
       "      <td>156</td>\n",
       "      <td>3.006</td>\n",
       "      <td>0.05015</td>\n",
       "      <td>0.66320</td>\n",
       "      <td>0.47489</td>\n",
       "      <td>0.72193</td>\n",
       "      <td>0.15684</td>\n",
       "      <td>0.18906</td>\n",
       "      <td>0.47179</td>\n",
       "      <td>0.32858</td>\n",
       "      <td>NaN</td>\n",
       "    </tr>\n",
       "    <tr>\n",
       "      <th>156</th>\n",
       "      <td>Burundi</td>\n",
       "      <td>Sub-Saharan Africa</td>\n",
       "      <td>157</td>\n",
       "      <td>2.905</td>\n",
       "      <td>0.08658</td>\n",
       "      <td>0.01530</td>\n",
       "      <td>0.41587</td>\n",
       "      <td>0.22396</td>\n",
       "      <td>0.11850</td>\n",
       "      <td>0.10062</td>\n",
       "      <td>0.19727</td>\n",
       "      <td>1.83302</td>\n",
       "      <td>Burund</td>\n",
       "    </tr>\n",
       "    <tr>\n",
       "      <th>157</th>\n",
       "      <td>Togo</td>\n",
       "      <td>Sub-Saharan Africa</td>\n",
       "      <td>158</td>\n",
       "      <td>2.839</td>\n",
       "      <td>0.06727</td>\n",
       "      <td>0.20868</td>\n",
       "      <td>0.13995</td>\n",
       "      <td>0.28443</td>\n",
       "      <td>0.36453</td>\n",
       "      <td>0.10731</td>\n",
       "      <td>0.16681</td>\n",
       "      <td>1.56726</td>\n",
       "      <td>NaN</td>\n",
       "    </tr>\n",
       "  </tbody>\n",
       "</table>\n",
       "<p>158 rows × 13 columns</p>\n",
       "</div>"
      ],
      "text/plain": [
       "         Country                           Region  Happiness Rank  \\\n",
       "0    Switzerland                   Western Europe               1   \n",
       "1        Iceland                   Western Europe               2   \n",
       "2        Denmark                   Western Europe               3   \n",
       "3         Norway                   Western Europe               4   \n",
       "4         Canada                    North America               5   \n",
       "..           ...                              ...             ...   \n",
       "153       Rwanda               Sub-Saharan Africa             154   \n",
       "154        Benin               Sub-Saharan Africa             155   \n",
       "155        Syria  Middle East and Northern Africa             156   \n",
       "156      Burundi               Sub-Saharan Africa             157   \n",
       "157         Togo               Sub-Saharan Africa             158   \n",
       "\n",
       "     Happiness Score  Standard Error  Economy (GDP per Capita)   Family  \\\n",
       "0              7.587         0.03411                   1.39651  1.34951   \n",
       "1              7.561         0.04884                   1.30232  1.40223   \n",
       "2              7.527         0.03328                   1.32548  1.36058   \n",
       "3              7.522         0.03880                   1.45900  1.33095   \n",
       "4              7.427         0.03553                   1.32629  1.32261   \n",
       "..               ...             ...                       ...      ...   \n",
       "153            3.465         0.03464                   0.22208  0.77370   \n",
       "154            3.340         0.03656                   0.28665  0.35386   \n",
       "155            3.006         0.05015                   0.66320  0.47489   \n",
       "156            2.905         0.08658                   0.01530  0.41587   \n",
       "157            2.839         0.06727                   0.20868  0.13995   \n",
       "\n",
       "     Health (Life Expectancy)  Freedom  Trust (Government Corruption)  \\\n",
       "0                     0.94143  0.66557                        0.41978   \n",
       "1                     0.94784  0.62877                        0.14145   \n",
       "2                     0.87464  0.64938                        0.48357   \n",
       "3                     0.88521  0.66973                        0.36503   \n",
       "4                     0.90563  0.63297                        0.32957   \n",
       "..                        ...      ...                            ...   \n",
       "153                   0.42864  0.59201                        0.55191   \n",
       "154                   0.31910  0.48450                        0.08010   \n",
       "155                   0.72193  0.15684                        0.18906   \n",
       "156                   0.22396  0.11850                        0.10062   \n",
       "157                   0.28443  0.36453                        0.10731   \n",
       "\n",
       "     Generosity  Dystopia Residual first_five_letters  \n",
       "0       0.29678            2.51738             Switze  \n",
       "1       0.43630            2.70201             Icelan  \n",
       "2       0.34139            2.49204             Denmar  \n",
       "3       0.34699            2.46531             Norway  \n",
       "4       0.45811            2.45176             Canada  \n",
       "..          ...                ...                ...  \n",
       "153     0.22628            0.67042             Rwanda  \n",
       "154     0.18260            1.63328                NaN  \n",
       "155     0.47179            0.32858                NaN  \n",
       "156     0.19727            1.83302             Burund  \n",
       "157     0.16681            1.56726                NaN  \n",
       "\n",
       "[158 rows x 13 columns]"
      ]
     },
     "execution_count": 11,
     "metadata": {},
     "output_type": "execute_result"
    }
   ],
   "source": [
    "#Question - 10\n",
    "\n",
    "url=\"https://raw.githubusercontent.com/dsrscientist/DSData/master/happiness_score_dataset.csv\"\n",
    "\n",
    "df=pd.read_csv(url)\n",
    "# print(df)\n",
    "df['first_five_letters']=df['Country'].str.extract(r\"(\\w{6})\")\n",
    "df"
   ]
  },
  {
   "cell_type": "code",
   "execution_count": 12,
   "id": "2bd5578c",
   "metadata": {},
   "outputs": [
    {
     "data": {
      "text/plain": [
       "['135FarookMohammad_', 'Farook', 'Mohammad']"
      ]
     },
     "execution_count": 12,
     "metadata": {},
     "output_type": "execute_result"
    }
   ],
   "source": [
    "#Question - 11\n",
    "\n",
    "target_string=\"135FarookMohammad_!@#$ &&%$$&Farook Mohammad^%$#\"\n",
    "pattern=\"[\\w]+\"\n",
    "\n",
    "result=re.findall(pattern,target_string)\n",
    "result"
   ]
  },
  {
   "cell_type": "code",
   "execution_count": 13,
   "id": "76a8887a",
   "metadata": {},
   "outputs": [
    {
     "data": {
      "text/plain": [
       "<re.Match object; span=(0, 16), match='1FarookMohammad_'>"
      ]
     },
     "execution_count": 13,
     "metadata": {},
     "output_type": "execute_result"
    }
   ],
   "source": [
    "#Question - 12\n",
    "\n",
    "target_string=\"1FarookMohammad_!@#$ 1&&%$$&Farook 1Mohammad^%$#\"\n",
    "pattern=\"^1+\\w+\"\n",
    "\n",
    "result=re.search(pattern,target_string)\n",
    "result"
   ]
  },
  {
   "cell_type": "code",
   "execution_count": 14,
   "id": "e3a2d201",
   "metadata": {},
   "outputs": [
    {
     "data": {
      "text/plain": [
       "'155.8.65.193'"
      ]
     },
     "execution_count": 14,
     "metadata": {},
     "output_type": "execute_result"
    }
   ],
   "source": [
    "#Question - 13\n",
    "\n",
    "target_string = \"155.08.065.193\"\n",
    "pattern=r\"\\.[0]*\"\n",
    "\n",
    "result = re.sub(pattern,\".\",target_string)\n",
    "result"
   ]
  },
  {
   "cell_type": "code",
   "execution_count": 44,
   "id": "a06bc898",
   "metadata": {},
   "outputs": [
    {
     "name": "stdout",
     "output_type": "stream",
     "text": [
      " On August 15th 1947 that India was declared independent from British colonialism, and\n",
      "the reins of control were handed over to the leaders of the Country\n"
     ]
    },
    {
     "data": {
      "text/plain": [
       "['August 15th 1947']"
      ]
     },
     "execution_count": 44,
     "metadata": {},
     "output_type": "execute_result"
    }
   ],
   "source": [
    "#Question - 14\n",
    "\n",
    "file_path = \"data2.txt\"\n",
    "\n",
    "with open(file_path,\"r\") as file:\n",
    "    file_contents=file.read()\n",
    "\n",
    "print(file_contents)\n",
    "pattern = r\"\\b(?:[A-Z][a-z]+) \\d{1,2}(?:st|nd|rd|th)? \\d{4}\\b\"\n",
    "data=re.findall(pattern,file_contents)\n",
    "data"
   ]
  },
  {
   "cell_type": "code",
   "execution_count": 58,
   "id": "93378855",
   "metadata": {},
   "outputs": [
    {
     "name": "stdout",
     "output_type": "stream",
     "text": [
      "fox : matched\n",
      "dog : matched\n",
      "horse : not matched\n"
     ]
    }
   ],
   "source": [
    "#Question - 15\n",
    "\n",
    "literal_strings=['fox', 'dog', 'horse']\n",
    "target_string=\"The quick brown fox jumps over the lazy dog.\"\n",
    "\n",
    "for text in literal_strings:\n",
    "    result=re.search(text,target_string)\n",
    "    if result:\n",
    "        print(text,\": matched\")\n",
    "    else:\n",
    "        print(text,\": not matched\")"
   ]
  },
  {
   "cell_type": "code",
   "execution_count": 59,
   "id": "e0c2efc5",
   "metadata": {},
   "outputs": [
    {
     "name": "stdout",
     "output_type": "stream",
     "text": [
      "fox  \n",
      "  Start :  16 End :  19\n"
     ]
    }
   ],
   "source": [
    "#Question - 16\n",
    "\n",
    "string='fox'\n",
    "target_string=\"The quick brown fox jumps over the lazy dog.\"\n",
    "\n",
    "match = re.search(string,target_string)\n",
    "start=match.start()\n",
    "end=match.end()\n",
    "\n",
    "print(string,\" \\n \",\"Start : \",start,\"End : \" ,end)"
   ]
  },
  {
   "cell_type": "code",
   "execution_count": 57,
   "id": "173d464a",
   "metadata": {},
   "outputs": [
    {
     "name": "stdout",
     "output_type": "stream",
     "text": [
      "exercises\n",
      "exercises\n",
      "exercises\n"
     ]
    }
   ],
   "source": [
    "#Question - 17\n",
    "\n",
    "pattern=\"exercises\"\n",
    "string=\"Python exercises, PHP exercises, C# exercises\"\n",
    "\n",
    "for text in re.findall(pattern,string):\n",
    "    print(text)"
   ]
  },
  {
   "cell_type": "code",
   "execution_count": 70,
   "id": "188886f1",
   "metadata": {},
   "outputs": [
    {
     "name": "stdout",
     "output_type": "stream",
     "text": [
      "exercises Start :  7  End :  16\n",
      "exercises Start :  22  End :  31\n",
      "exercises Start :  36  End :  45\n"
     ]
    }
   ],
   "source": [
    "#Question - 18\n",
    "\n",
    "pattern=\"exercises\"\n",
    "string=\"Python exercises, PHP exercises, C# exercises\"\n",
    "\n",
    "for text in re.finditer(pattern,string):\n",
    "    result=re.search(pattern,string)\n",
    "    start=text.start()\n",
    "    end=text.end()\n",
    "    print(result.group(),\"Start : \",start,\" End : \",end)"
   ]
  },
  {
   "cell_type": "code",
   "execution_count": 71,
   "id": "4c551f6c",
   "metadata": {},
   "outputs": [
    {
     "name": "stdout",
     "output_type": "stream",
     "text": [
      "exercises Start :  7  End :  16\n",
      "exercises Start :  22  End :  31\n",
      "exercises Start :  36  End :  45\n"
     ]
    }
   ],
   "source": [
    "#Question - 19\n",
    "\n",
    "pattern=\"exercises\"\n",
    "string=\"Python exercises, PHP exercises, C# exercises\"\n",
    "\n",
    "for text in re.finditer(pattern,string):\n",
    "    result=re.search(pattern,string)\n",
    "    start=text.start()\n",
    "    end=text.end()\n",
    "    print(result.group(),\"Start : \",start,\" End : \",end)"
   ]
  },
  {
   "cell_type": "code",
   "execution_count": 87,
   "id": "96bf54b0",
   "metadata": {},
   "outputs": [
    {
     "data": {
      "text/plain": [
       "['01.12', '145.8', '3.01', '27.25', '0.25']"
      ]
     },
     "execution_count": 87,
     "metadata": {},
     "output_type": "execute_result"
    }
   ],
   "source": [
    "#Question - 20\n",
    "\n",
    "target_string=\"01.12 0132.123 2.31875 145.8 3.01 27.25 0.25\"\n",
    "pattern=re.compile(r\"\\b\\d+\\.\\d{1,2}\\b\")\n",
    "result=re.findall(pattern,target_string)\n",
    "result"
   ]
  },
  {
   "cell_type": "code",
   "execution_count": 95,
   "id": "fdaaf291",
   "metadata": {},
   "outputs": [
    {
     "name": "stdout",
     "output_type": "stream",
     "text": [
      "Matched item :  01.12 \n",
      " Start :  0  End :  5 \n",
      "\n",
      "Matched item :  145.8 \n",
      " Start :  23  End :  28 \n",
      "\n",
      "Matched item :  3.01 \n",
      " Start :  29  End :  33 \n",
      "\n",
      "Matched item :  27.25 \n",
      " Start :  34  End :  39 \n",
      "\n",
      "Matched item :  0.25 \n",
      " Start :  40  End :  44 \n",
      "\n"
     ]
    }
   ],
   "source": [
    "#Questions - 21\n",
    "\n",
    "target_string=\"01.12 0132.123 2.31875 145.8 3.01 27.25 0.25\"\n",
    "pattern=re.compile(r\"\\b\\d+\\.\\d{1,2}\\b\")\n",
    "for match in re.finditer(pattern,target_string):\n",
    "#     print(match)\n",
    "    start=match.start()\n",
    "    end=match.end()\n",
    "    result=re.search(pattern,target_string)\n",
    "    print(\"Matched item : \",match.group(),\"\\n\",\"Start : \",start,\" End : \",end,\"\\n\")"
   ]
  },
  {
   "cell_type": "code",
   "execution_count": 103,
   "id": "8230720e",
   "metadata": {},
   "outputs": [
    {
     "name": "stdout",
     "output_type": "stream",
     "text": [
      "Maximum number :  950\n"
     ]
    }
   ],
   "source": [
    "#Question - 22\n",
    "\n",
    "target_string = \"My marks in each semester are: 947, 896, 926, 524, 734, 950, 642\"\n",
    "\n",
    "def maximumNumber(target_string):\n",
    "    pattern = re.compile(r\"\\b\\d+\\b\")\n",
    "    matches = pattern.findall(target_string)\n",
    "    if matches:\n",
    "        return max(map(int,matches))\n",
    "    else:\n",
    "        return \"No number\"\n",
    "\n",
    "MaxNum=maximumNumber(target_string)\n",
    "\n",
    "print(\"Maximum number : \",MaxNum)"
   ]
  },
  {
   "cell_type": "code",
   "execution_count": 121,
   "id": "4d956ffa",
   "metadata": {},
   "outputs": [
    {
     "data": {
      "text/plain": [
       "'Regular Expression Is An Important Topic In Python '"
      ]
     },
     "execution_count": 121,
     "metadata": {},
     "output_type": "execute_result"
    }
   ],
   "source": [
    "#Question - 23\n",
    "\n",
    "target_string=\"RegularExpressionIsAnImportantTopicInPython\"\n",
    "\n",
    "result=re.sub(r\"([A-Z][a-z]+)\",r\"\\1 \",target_string)\n",
    "# result=re.sub(r\"([A-Z])[a-z]+\",r\"\\1 \",target_string) #OUTPUT :: 'R E I A I T I P '\n",
    "result"
   ]
  },
  {
   "cell_type": "code",
   "execution_count": 152,
   "id": "c94baee8",
   "metadata": {},
   "outputs": [
    {
     "name": "stdout",
     "output_type": "stream",
     "text": [
      "matched found\n",
      "Not found\n",
      "Not found\n",
      "Not found\n"
     ]
    }
   ],
   "source": [
    "#Question - 24\n",
    "\n",
    "def matchUL(text):\n",
    "    pattern=r\"^[A-Z][a-z]\"\n",
    "    if re.search(pattern,text):\n",
    "        return (\"matched found\")\n",
    "    else:\n",
    "        return (\"Not found\")\n",
    "\n",
    "print(matchUL(\"Python\"))\n",
    "print(matchUL(\"PYthon\"))\n",
    "print(matchUL(\"fR\"))\n",
    "print(matchUL(\"FRa\"))"
   ]
  },
  {
   "cell_type": "code",
   "execution_count": 155,
   "id": "4baeb6a2",
   "metadata": {},
   "outputs": [
    {
     "data": {
      "text/plain": [
       "'Hello hello world'"
      ]
     },
     "execution_count": 155,
     "metadata": {},
     "output_type": "execute_result"
    }
   ],
   "source": [
    "#Question - 25\n",
    "\n",
    "target_string=\"Hello hello world world\"\n",
    "pattern = r\"\\b(\\w+)\\s\\1\\b\"\n",
    "\n",
    "result=re.sub(pattern,r\"\\1\",target_string)\n",
    "result"
   ]
  },
  {
   "cell_type": "code",
   "execution_count": 159,
   "id": "efc435e9",
   "metadata": {},
   "outputs": [
    {
     "name": "stdout",
     "output_type": "stream",
     "text": [
      "Matched\n",
      "Not matched\n"
     ]
    }
   ],
   "source": [
    "#Question - 26\n",
    "\n",
    "def alphaNumerical(text):\n",
    "    pattern=r\".*[a-zA-Z0-9]$\"\n",
    "    if re.match(pattern,text):\n",
    "        return \"Matched\"\n",
    "    else:\n",
    "        return \"Not matched\"\n",
    "print(alphaNumerical(\"Far123\"))\n",
    "print(alphaNumerical(\"125far&&\"))"
   ]
  },
  {
   "cell_type": "code",
   "execution_count": 174,
   "id": "3d4e1b2f",
   "metadata": {},
   "outputs": [
    {
     "data": {
      "text/plain": [
       "['#Doltiwal', '#xyzabc', '#Demonetization']"
      ]
     },
     "execution_count": 174,
     "metadata": {},
     "output_type": "execute_result"
    }
   ],
   "source": [
    "#Question - 27\n",
    "\n",
    "target_string=\"\"\"RT @kapil_kausik: #Doltiwal I mean #xyzabc is \"hurt\" by #Demonetization as the same has rendered USELESS <ed><U+00A0><U+00BD><ed><U+00B1><U+0089> \"acquired funds\" No wo\"\"\"\n",
    "\n",
    "def hashtag():\n",
    "    pattern=r\"\\#[\\w]+\"\n",
    "    result = re.findall(pattern,target_string)\n",
    "    return result\n",
    "\n",
    "hashtag()"
   ]
  },
  {
   "cell_type": "code",
   "execution_count": 193,
   "id": "5e780136",
   "metadata": {},
   "outputs": [
    {
     "data": {
      "text/plain": [
       "'@Jags123456 Bharat band on 28??<ed><ed>Those who are protesting #demonetization are all different party leaders'"
      ]
     },
     "execution_count": 193,
     "metadata": {},
     "output_type": "execute_result"
    }
   ],
   "source": [
    "#Question - 28\n",
    "\n",
    "target_string=\"@Jags123456 Bharat band on 28??<ed><U+00A0><U+00BD><ed><U+00B8><U+0082>Those who are protesting #demonetization are all different party leaders\"\n",
    "\n",
    "def hashtag_remove():\n",
    "    pattern=r\"<U\\+[a-zA-Z0-9]+>\"\n",
    "    result=re.sub(pattern,\"\",target_string)\n",
    "    return result\n",
    "\n",
    "hashtag_remove()"
   ]
  },
  {
   "cell_type": "code",
   "execution_count": 194,
   "id": "117fbbe8",
   "metadata": {},
   "outputs": [
    {
     "data": {
      "text/plain": [
       "['12-09-1992', '15-12-1999']"
      ]
     },
     "execution_count": 194,
     "metadata": {},
     "output_type": "execute_result"
    }
   ],
   "source": [
    "#Question - 29\n",
    "\n",
    "file_path=\"data3.txt\"\n",
    "\n",
    "with open(file_path,\"r\") as file:\n",
    "    file_contents=file.read()\n",
    "    \n",
    "def find_date():\n",
    "    pattern=r\"\\d{1,2}\\-\\d{1,2}\\-\\d{2,4}\"\n",
    "    result=re.findall(pattern,file_contents)\n",
    "    return result\n",
    "\n",
    "find_date()"
   ]
  },
  {
   "cell_type": "code",
   "execution_count": 209,
   "id": "31c8a006",
   "metadata": {},
   "outputs": [
    {
     "data": {
      "text/plain": [
       "' following example creates  ArrayList  a capacity  50 elements.4 elements   added   ArrayList   ArrayList  trimmed accordingly.'"
      ]
     },
     "execution_count": 209,
     "metadata": {},
     "output_type": "execute_result"
    }
   ],
   "source": [
    "#Question - 30\n",
    "\n",
    "target_string=\"The following example creates an ArrayList with a capacity of 50 elements.4 elements are then added to the ArrayList and the ArrayList is trimmed accordingly.\"\n",
    "\n",
    "def extact_four_words():\n",
    "    pattern=re.compile(r\"\\b[a-zA-Z]{2,4}\\b\")\n",
    "    return pattern.sub(\"\",target_string)\n",
    "    \n",
    "extact_four_words()"
   ]
  },
  {
   "cell_type": "code",
   "execution_count": null,
   "id": "b7e3551a",
   "metadata": {},
   "outputs": [],
   "source": []
  }
 ],
 "metadata": {
  "kernelspec": {
   "display_name": "Python 3 (ipykernel)",
   "language": "python",
   "name": "python3"
  },
  "language_info": {
   "codemirror_mode": {
    "name": "ipython",
    "version": 3
   },
   "file_extension": ".py",
   "mimetype": "text/x-python",
   "name": "python",
   "nbconvert_exporter": "python",
   "pygments_lexer": "ipython3",
   "version": "3.10.9"
  }
 },
 "nbformat": 4,
 "nbformat_minor": 5
}
