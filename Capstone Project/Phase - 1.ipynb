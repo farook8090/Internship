{
 "cells": [
  {
   "cell_type": "code",
   "execution_count": 38,
   "id": "25e0a9ca",
   "metadata": {},
   "outputs": [],
   "source": [
    "#URL Used to Get Population and Literacy fro Year 2011\n",
    "\n",
    "# https://www.census2011.co.in/district.php?page=1"
   ]
  },
  {
   "cell_type": "code",
   "execution_count": 39,
   "id": "c981bac1",
   "metadata": {},
   "outputs": [],
   "source": [
    "import pandas as pd\n",
    "import selenium\n",
    "from selenium import webdriver\n",
    "from selenium.webdriver.common.by import By\n",
    "import time\n",
    "\n",
    "from selenium.webdriver.support.ui import WebDriverWait\n",
    "from selenium.webdriver.support import expected_conditions as EC\n",
    "from selenium.common.exceptions import NoSuchElementException\n",
    "from selenium.webdriver.common.keys import Keys\n",
    "from selenium.webdriver.common.action_chains import ActionChains"
   ]
  },
  {
   "cell_type": "code",
   "execution_count": 40,
   "id": "11fee882",
   "metadata": {},
   "outputs": [],
   "source": [
    "driver =  webdriver.Chrome()\n",
    "driver.maximize_window()"
   ]
  },
  {
   "cell_type": "code",
   "execution_count": 41,
   "id": "9b321881",
   "metadata": {},
   "outputs": [],
   "source": [
    "SrNo = []\n",
    "DistictName = []\n",
    "StateName = []\n",
    "Population = []\n",
    "Growth = []\n",
    "SexRatio = []\n",
    "Literacy = []"
   ]
  },
  {
   "cell_type": "code",
   "execution_count": 42,
   "id": "8fab3a03",
   "metadata": {},
   "outputs": [],
   "source": [
    "for number in range(1, 23):\n",
    "    time.sleep(3)\n",
    "    url = 'https://www.census2011.co.in/district.php?page=' + str(number)\n",
    "    driver.get(url)\n",
    "\n",
    "    sr_no = driver.find_elements(By.XPATH, '/html/body/div[2]/main/div/table/tbody/tr/td[1]')\n",
    "    distict_name = driver.find_elements(By.XPATH, '/html/body/div[2]/main/div/table/tbody/tr/td[2]')\n",
    "    state_name = driver.find_elements(By.XPATH, '/html/body/div[2]/main/div/table/tbody/tr/td[3]')\n",
    "    population = driver.find_elements(By.XPATH, '/html/body/div[2]/main/div/table/tbody/tr/td[4]')\n",
    "    growth = driver.find_elements(By.XPATH, '/html/body/div[2]/main/div/table/tbody/tr/td[5]')\n",
    "    sex_ratio = driver.find_elements(By.XPATH, '/html/body/div[2]/main/div/table/tbody/tr/td[6]')\n",
    "    literacy = driver.find_elements(By.XPATH, '/html/body/div[2]/main/div/table/tbody/tr/td[7]')\n",
    "\n",
    "    SrNo.extend([elem.text for elem in sr_no])\n",
    "    DistictName.extend([elem.text for elem in distict_name])\n",
    "    StateName.extend([elem.text for elem in state_name])\n",
    "    Population.extend([elem.text for elem in population])\n",
    "    Growth.extend([elem.text for elem in growth])\n",
    "    SexRatio.extend([elem.text for elem in sex_ratio])\n",
    "    Literacy.extend([elem.text for elem in literacy])"
   ]
  },
  {
   "cell_type": "code",
   "execution_count": 43,
   "id": "e9351775",
   "metadata": {},
   "outputs": [],
   "source": [
    "print(len(SrNo),len(DistictName),len(StateName),len(Population),len(Growth),len(SexRatio),len(Literacy))"
   ]
  },
  {
   "cell_type": "code",
   "execution_count": 44,
   "id": "4e6a4313",
   "metadata": {},
   "outputs": [],
   "source": [
    "data={\n",
    "    \"Sr no\":SrNo,\n",
    "    \"Distict Name\":DistictName,\n",
    "    \"State Name\":StateName,\n",
    "    \"Population\":Population,\n",
    "    \"Growth\":Growth,\n",
    "    \"Sex ratio\":SexRatio,\n",
    "    \"Literacy\":Literacy\n",
    "}\n",
    "\n",
    "census_2011_df = pd.DataFrame(data=data)\n",
    "census_2011_df"
   ]
  },
  {
   "cell_type": "code",
   "execution_count": 45,
   "id": "06bc9150",
   "metadata": {},
   "outputs": [],
   "source": [
    "census_2011_df.to_excel('census_2011_data.xlsx', index=False)\n",
    "census_2011_df.to_csv('census_2011_data.csv', index=False)"
   ]
  },
  {
   "cell_type": "code",
   "execution_count": 46,
   "id": "cd6caa86",
   "metadata": {},
   "outputs": [],
   "source": [
    "# --  Census Data - 2001 --\n",
    "# https://www.educationforallinindia.com/page163.html"
   ]
  },
  {
   "cell_type": "code",
   "execution_count": 47,
   "id": "a28c4e78",
   "metadata": {},
   "outputs": [],
   "source": [
    "driver =  webdriver.Chrome()\n",
    "driver.maximize_window()"
   ]
  },
  {
   "cell_type": "code",
   "execution_count": 48,
   "id": "33678de9",
   "metadata": {},
   "outputs": [],
   "source": [
    "SrNo = []\n",
    "ut_states = []\n",
    "codes=[]\n",
    "population_2001 = []"
   ]
  },
  {
   "cell_type": "code",
   "execution_count": 49,
   "id": "6fd348ec",
   "metadata": {},
   "outputs": [],
   "source": [
    "url = 'https://www.educationforallinindia.com/page163.html'\n",
    "driver.get(url)\n",
    "\n",
    "ut_state = driver.find_elements(By.XPATH, '/html/body/center/center/table/tbody/tr/td/center/table[2]/tbody/tr[@height=\"22\"]/td[1]')\n",
    "code = driver.find_elements(By.XPATH, '/html/body/center/center/table/tbody/tr/td/center/table[2]/tbody/tr[@height=\"22\"]/td[2]')\n",
    "population = driver.find_elements(By.XPATH, '/html/body/center/center/table/tbody/tr/td/center/table[2]/tbody/tr[@height=\"22\"]/td[3]')\n",
    "\n",
    "ut_states.extend([elem.text for elem in ut_state])\n",
    "codes.extend([elem.text for elem in code])\n",
    "population_2001.extend([elem.text for elem in population])"
   ]
  },
  {
   "cell_type": "code",
   "execution_count": 50,
   "id": "0abbaf56",
   "metadata": {},
   "outputs": [],
   "source": [
    "for n in range(1,633):\n",
    "    SrNo.append(n)"
   ]
  },
  {
   "cell_type": "code",
   "execution_count": 51,
   "id": "8a9be783",
   "metadata": {},
   "outputs": [],
   "source": [
    "max_lenth = max(len(ut_states),len(codes),len(population_2001),len(SrNo))\n",
    "# max_lenth\n",
    "\n",
    "ut_states += [\"-\"] * (max_lenth - len(ut_states))\n",
    "codes += [\"-\"] * (max_lenth - len(codes))\n",
    "population_2001 += [\"-\"] * (max_lenth - len(population_2001))\n",
    "SrNo += [\"-\"] * (max_lenth - len(SrNo))"
   ]
  },
  {
   "cell_type": "code",
   "execution_count": 52,
   "id": "22bbfb35",
   "metadata": {},
   "outputs": [
    {
     "data": {
      "text/html": [
       "<div>\n",
       "<style scoped>\n",
       "    .dataframe tbody tr th:only-of-type {\n",
       "        vertical-align: middle;\n",
       "    }\n",
       "\n",
       "    .dataframe tbody tr th {\n",
       "        vertical-align: top;\n",
       "    }\n",
       "\n",
       "    .dataframe thead th {\n",
       "        text-align: right;\n",
       "    }\n",
       "</style>\n",
       "<table border=\"1\" class=\"dataframe\">\n",
       "  <thead>\n",
       "    <tr style=\"text-align: right;\">\n",
       "      <th></th>\n",
       "      <th>Sr no</th>\n",
       "      <th>UT/STATE/Distict Name</th>\n",
       "      <th>Code</th>\n",
       "      <th>Population</th>\n",
       "    </tr>\n",
       "  </thead>\n",
       "  <tbody>\n",
       "    <tr>\n",
       "      <th>0</th>\n",
       "      <td>1</td>\n",
       "      <td>INDIA</td>\n",
       "      <td></td>\n",
       "      <td>1,027,015,247</td>\n",
       "    </tr>\n",
       "    <tr>\n",
       "      <th>1</th>\n",
       "      <td>2</td>\n",
       "      <td>Jammu &amp; Kashmir</td>\n",
       "      <td>01</td>\n",
       "      <td>10,069,917</td>\n",
       "    </tr>\n",
       "    <tr>\n",
       "      <th>2</th>\n",
       "      <td>3</td>\n",
       "      <td>Kupwara</td>\n",
       "      <td>01</td>\n",
       "      <td>640,013</td>\n",
       "    </tr>\n",
       "    <tr>\n",
       "      <th>3</th>\n",
       "      <td>4</td>\n",
       "      <td>Baramula</td>\n",
       "      <td>02</td>\n",
       "      <td>1,166,722</td>\n",
       "    </tr>\n",
       "    <tr>\n",
       "      <th>4</th>\n",
       "      <td>5</td>\n",
       "      <td>Srinagar</td>\n",
       "      <td>03</td>\n",
       "      <td>1,238,530</td>\n",
       "    </tr>\n",
       "    <tr>\n",
       "      <th>...</th>\n",
       "      <td>...</td>\n",
       "      <td>...</td>\n",
       "      <td>...</td>\n",
       "      <td>...</td>\n",
       "    </tr>\n",
       "    <tr>\n",
       "      <th>627</th>\n",
       "      <td>628</td>\n",
       "      <td>Andamans</td>\n",
       "      <td>01</td>\n",
       "      <td>314,239</td>\n",
       "    </tr>\n",
       "    <tr>\n",
       "      <th>628</th>\n",
       "      <td>629</td>\n",
       "      <td>Nicobars</td>\n",
       "      <td>02</td>\n",
       "      <td>42,026</td>\n",
       "    </tr>\n",
       "    <tr>\n",
       "      <th>629</th>\n",
       "      <td>630</td>\n",
       "      <td>Notes:</td>\n",
       "      <td></td>\n",
       "      <td></td>\n",
       "    </tr>\n",
       "    <tr>\n",
       "      <th>630</th>\n",
       "      <td>631</td>\n",
       "      <td>Source and Copy Right: Suppliment of Paper 1 o...</td>\n",
       "      <td></td>\n",
       "      <td></td>\n",
       "    </tr>\n",
       "    <tr>\n",
       "      <th>631</th>\n",
       "      <td>632</td>\n",
       "      <td></td>\n",
       "      <td>-</td>\n",
       "      <td>-</td>\n",
       "    </tr>\n",
       "  </tbody>\n",
       "</table>\n",
       "<p>632 rows × 4 columns</p>\n",
       "</div>"
      ],
      "text/plain": [
       "     Sr no                              UT/STATE/Distict Name Code  \\\n",
       "0        1                                              INDIA        \n",
       "1        2                                    Jammu & Kashmir   01   \n",
       "2        3                                            Kupwara   01   \n",
       "3        4                                           Baramula   02   \n",
       "4        5                                           Srinagar   03   \n",
       "..     ...                                                ...  ...   \n",
       "627    628                                           Andamans   01   \n",
       "628    629                                           Nicobars   02   \n",
       "629    630                                             Notes:        \n",
       "630    631  Source and Copy Right: Suppliment of Paper 1 o...        \n",
       "631    632                                                       -   \n",
       "\n",
       "        Population  \n",
       "0    1,027,015,247  \n",
       "1       10,069,917  \n",
       "2          640,013  \n",
       "3        1,166,722  \n",
       "4        1,238,530  \n",
       "..             ...  \n",
       "627        314,239  \n",
       "628         42,026  \n",
       "629                 \n",
       "630                 \n",
       "631              -  \n",
       "\n",
       "[632 rows x 4 columns]"
      ]
     },
     "execution_count": 52,
     "metadata": {},
     "output_type": "execute_result"
    }
   ],
   "source": [
    "data={\n",
    "    \"Sr no\":SrNo,\n",
    "    \"UT/STATE/Distict Name\":ut_states,\n",
    "    \"Code\":codes,\n",
    "    \"Population\":population_2001,\n",
    "}\n",
    "\n",
    "census_2001_df = pd.DataFrame(data=data)\n",
    "census_2001_df"
   ]
  },
  {
   "cell_type": "code",
   "execution_count": 53,
   "id": "dc8bdc37",
   "metadata": {},
   "outputs": [],
   "source": [
    "census_2001_df.to_excel('census_2001_data.xlsx', index=False)\n",
    "census_2001_df.to_csv('census_2001_data.csv', index=False)"
   ]
  },
  {
   "cell_type": "code",
   "execution_count": null,
   "id": "c237205c",
   "metadata": {},
   "outputs": [],
   "source": []
  },
  {
   "cell_type": "code",
   "execution_count": null,
   "id": "9cea7c7c",
   "metadata": {},
   "outputs": [],
   "source": []
  },
  {
   "cell_type": "code",
   "execution_count": null,
   "id": "913c26a0",
   "metadata": {},
   "outputs": [],
   "source": []
  },
  {
   "cell_type": "code",
   "execution_count": null,
   "id": "cf6f8356",
   "metadata": {},
   "outputs": [],
   "source": []
  }
 ],
 "metadata": {
  "kernelspec": {
   "display_name": "Python 3 (ipykernel)",
   "language": "python",
   "name": "python3"
  },
  "language_info": {
   "codemirror_mode": {
    "name": "ipython",
    "version": 3
   },
   "file_extension": ".py",
   "mimetype": "text/x-python",
   "name": "python",
   "nbconvert_exporter": "python",
   "pygments_lexer": "ipython3",
   "version": "3.10.9"
  }
 },
 "nbformat": 4,
 "nbformat_minor": 5
}
