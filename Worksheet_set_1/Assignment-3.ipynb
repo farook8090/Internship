{
 "cells": [
  {
   "cell_type": "markdown",
   "id": "fb63d45c",
   "metadata": {},
   "source": [
    "# ::: ASSIGNMENT - 3 :::"
   ]
  },
  {
   "cell_type": "code",
   "execution_count": 4,
   "id": "74000450",
   "metadata": {},
   "outputs": [],
   "source": [
    "#QUESTION - 11\n",
    "def factorial(num):\n",
    "    result = 1\n",
    "    for n in range(1,num+1):\n",
    "        result *= n\n",
    "    return result"
   ]
  },
  {
   "cell_type": "code",
   "execution_count": 5,
   "id": "d153ed17",
   "metadata": {},
   "outputs": [
    {
     "name": "stdout",
     "output_type": "stream",
     "text": [
      "Enter number 5\n"
     ]
    },
    {
     "data": {
      "text/plain": [
       "120"
      ]
     },
     "execution_count": 5,
     "metadata": {},
     "output_type": "execute_result"
    }
   ],
   "source": [
    "num=int(input(\"Enter number \"))\n",
    "factorial(num)"
   ]
  },
  {
   "cell_type": "code",
   "execution_count": 8,
   "id": "10207071",
   "metadata": {},
   "outputs": [
    {
     "name": "stdout",
     "output_type": "stream",
     "text": [
      "Enter number 5\n",
      "5 is a prime number\n"
     ]
    }
   ],
   "source": [
    "#QUESTION - 12\n",
    "def is_prime(number):\n",
    "   if number < 2:\n",
    "        return False\n",
    "   for n in range(2,int(number**0.5)+1):\n",
    "    if number % n == 0:\n",
    "        return False\n",
    "    return True\n",
    "\n",
    "num = int(input(\"Enter number \"))\n",
    "\n",
    "if is_prime(num):\n",
    "    print(f\"{num} is a prime number\")\n",
    "else:\n",
    "    print(f\"{num} is a composite number\")"
   ]
  },
  {
   "cell_type": "code",
   "execution_count": 19,
   "id": "59d55227",
   "metadata": {},
   "outputs": [],
   "source": [
    "#Question - 13\n",
    "def is_palindrome(string):\n",
    "    s=string.replace(\" \",\"\").lower()\n",
    "    return s==s[::-1]"
   ]
  },
  {
   "cell_type": "code",
   "execution_count": 21,
   "id": "ec2ee1b5",
   "metadata": {},
   "outputs": [
    {
     "name": "stdout",
     "output_type": "stream",
     "text": [
      "Enter a word hello work\n",
      "hello work is not a palindrome.\n"
     ]
    }
   ],
   "source": [
    "word=input(\"Enter a word \")\n",
    "if is_palindrome(word):\n",
    "    print(f\"{word} is a palindrome.\")\n",
    "else:\n",
    "    print(f\"{word} is not a palindrome.\")"
   ]
  },
  {
   "cell_type": "code",
   "execution_count": 27,
   "id": "49430ac1",
   "metadata": {},
   "outputs": [],
   "source": [
    "#Question - 14\n",
    "import math as m\n",
    "def third_side(n1,n2):\n",
    "    c = m.sqrt((pow(n1,2)+pow(n2,2)))\n",
    "    return c"
   ]
  },
  {
   "cell_type": "code",
   "execution_count": 30,
   "id": "e3d462ec",
   "metadata": {},
   "outputs": [
    {
     "name": "stdout",
     "output_type": "stream",
     "text": [
      "Enter 1st side 5\n",
      "Enter 2nd side 58\n",
      "58.22 is the 3rd side of the triangle .\n"
     ]
    }
   ],
   "source": [
    "num1 = int(input(\"Enter 1st side \"))\n",
    "num2 = int(input(\"Enter 2nd side \"))\n",
    "\n",
    "print(f\"{round(third_side(num1,num2),2)} is the 3rd side of the triangle .\")"
   ]
  },
  {
   "cell_type": "code",
   "execution_count": 42,
   "id": "b8def4cb",
   "metadata": {},
   "outputs": [],
   "source": [
    "#Question - 15\n",
    "\n",
    "def character_frequency(input_string):\n",
    "    frequency_dict={}\n",
    "    \n",
    "    for chac in input_string:\n",
    "    #print(f\"{chac} is a character .\")\n",
    "        frequency_dict[chac]=frequency_dict.get(chac,0)+1\n",
    "    \n",
    "    print(\"Character frequencies:\")\n",
    "    \n",
    "    for chac,freq in frequency_dict.items():\n",
    "        print(f\"{chac} : {freq}\")"
   ]
  },
  {
   "cell_type": "code",
   "execution_count": 43,
   "id": "bcb4f661",
   "metadata": {},
   "outputs": [
    {
     "name": "stdout",
     "output_type": "stream",
     "text": [
      "Enter a string : Hello world\n",
      "Character frequencies:\n",
      "H : 1\n",
      "e : 1\n",
      "l : 3\n",
      "o : 2\n",
      "  : 1\n",
      "w : 1\n",
      "r : 1\n",
      "d : 1\n"
     ]
    }
   ],
   "source": [
    "string = input(\"Enter a string : \")\n",
    "character_frequency(string)"
   ]
  },
  {
   "cell_type": "code",
   "execution_count": null,
   "id": "fc63b067",
   "metadata": {},
   "outputs": [],
   "source": []
  }
 ],
 "metadata": {
  "kernelspec": {
   "display_name": "Python 3 (ipykernel)",
   "language": "python",
   "name": "python3"
  },
  "language_info": {
   "codemirror_mode": {
    "name": "ipython",
    "version": 3
   },
   "file_extension": ".py",
   "mimetype": "text/x-python",
   "name": "python",
   "nbconvert_exporter": "python",
   "pygments_lexer": "ipython3",
   "version": "3.10.9"
  }
 },
 "nbformat": 4,
 "nbformat_minor": 5
}
